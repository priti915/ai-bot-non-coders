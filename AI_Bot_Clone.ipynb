{
  "nbformat": 4,
  "nbformat_minor": 0,
  "metadata": {
    "colab": {
      "provenance": []
    },
    "kernelspec": {
      "name": "python3",
      "display_name": "Python 3"
    },
    "language_info": {
      "name": "python"
    }
  },
  "cells": [
    {
      "cell_type": "code",
      "source": [
        "from openai import OpenAI\n",
        "\n",
        "client = OpenAI(\n",
        "  base_url=\"https://openrouter.ai/api/v1\",\n",
        "    api_key=\"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\",\n",
        ")\n",
        "\n",
        "question = input(\"Enter your question?\\n\")\n",
        "\n",
        "completion = client.chat.completions.create(\n",
        "  extra_headers={\n",
        "    \"HTTP-Referer\": \"<YOUR_SITE_URL>\", # Optional. Site URL for rankings on openrouter.ai.\n",
        "    \"X-Title\": \"<YOUR_SITE_NAME>\", # Optional. Site title for rankings on openrouter.ai.\n",
        "  },\n",
        "  extra_body={},\n",
        "  model=\"moonshotai/kimi-k2:free\",\n",
        "  messages=[\n",
        "    {\n",
        "      \"role\": \"user\",\n",
        "      \"content\": f\"{question}\"\n",
        "    }\n",
        "  ]\n",
        ")\n",
        "# print(completion.choices[0].message.content)\n",
        "print(completion)"
      ],
      "metadata": {
        "colab": {
          "base_uri": "https://localhost:8080/"
        },
        "id": "8jG3_gs3O5kF",
        "outputId": "81cdfbdc-2e7e-482a-b3f9-7fd516af7397"
      },
      "execution_count": 1,
      "outputs": [
        {
          "output_type": "stream",
          "name": "stdout",
          "text": [
            "Enter your question?\n",
            "What is a meaning of jalebi?\n",
            "ChatCompletion(id='gen-1753516505-tRJhoQTWD9V2Ff7eNFrg', choices=[Choice(finish_reason='stop', index=0, logprobs=None, message=ChatCompletionMessage(content='**Jalebi** has two main meanings, depending on the context:\\n\\n1. **Food** – A popular South Asian sweet made by deep-frying a wheat flour batter into pretzel or circular shapes, then soaking it in sugar syrup. It\\'s crunchy, syrupy, and often bright orange or yellow in color.\\n\\n2. **Slang (in some regions)** – In parts of North India and Pakistan, \"jalebi\" can colloquially mean **\"twisted\" or \"complicated,\"** likely inspired by the sweet\\'s spiral shape. For example, \"uska dimag jalebi ban gaya hai\" can loosely translate to *\"his mind is all twisted/confused.\"*', refusal=None, role='assistant', annotations=None, audio=None, function_call=None, tool_calls=None, reasoning=None), native_finish_reason='stop')], created=1753516505, model='moonshotai/kimi-k2:free', object='chat.completion', service_tier=None, system_fingerprint=None, usage=CompletionUsage(completion_tokens=144, prompt_tokens=34, total_tokens=178, completion_tokens_details=None, prompt_tokens_details=None), provider='Parasail')\n"
          ]
        }
      ]
    },
    {
      "cell_type": "code",
      "source": [
        "print(completion.choices[0])"
      ],
      "metadata": {
        "colab": {
          "base_uri": "https://localhost:8080/"
        },
        "id": "Btpf-0DEPZlw",
        "outputId": "5e9a0455-f221-4a1d-e7d9-5fff848e29fb"
      },
      "execution_count": 2,
      "outputs": [
        {
          "output_type": "stream",
          "name": "stdout",
          "text": [
            "Choice(finish_reason='stop', index=0, logprobs=None, message=ChatCompletionMessage(content='**Jalebi** has two main meanings, depending on the context:\\n\\n1. **Food** – A popular South Asian sweet made by deep-frying a wheat flour batter into pretzel or circular shapes, then soaking it in sugar syrup. It\\'s crunchy, syrupy, and often bright orange or yellow in color.\\n\\n2. **Slang (in some regions)** – In parts of North India and Pakistan, \"jalebi\" can colloquially mean **\"twisted\" or \"complicated,\"** likely inspired by the sweet\\'s spiral shape. For example, \"uska dimag jalebi ban gaya hai\" can loosely translate to *\"his mind is all twisted/confused.\"*', refusal=None, role='assistant', annotations=None, audio=None, function_call=None, tool_calls=None, reasoning=None), native_finish_reason='stop')\n"
          ]
        }
      ]
    },
    {
      "cell_type": "code",
      "source": [
        "print(completion.choices[0].message)"
      ],
      "metadata": {
        "colab": {
          "base_uri": "https://localhost:8080/"
        },
        "id": "Z-oA-83nP63Q",
        "outputId": "10a63963-88ee-475f-abf9-5bd838a893c8"
      },
      "execution_count": 3,
      "outputs": [
        {
          "output_type": "stream",
          "name": "stdout",
          "text": [
            "ChatCompletionMessage(content='**Jalebi** has two main meanings, depending on the context:\\n\\n1. **Food** – A popular South Asian sweet made by deep-frying a wheat flour batter into pretzel or circular shapes, then soaking it in sugar syrup. It\\'s crunchy, syrupy, and often bright orange or yellow in color.\\n\\n2. **Slang (in some regions)** – In parts of North India and Pakistan, \"jalebi\" can colloquially mean **\"twisted\" or \"complicated,\"** likely inspired by the sweet\\'s spiral shape. For example, \"uska dimag jalebi ban gaya hai\" can loosely translate to *\"his mind is all twisted/confused.\"*', refusal=None, role='assistant', annotations=None, audio=None, function_call=None, tool_calls=None, reasoning=None)\n"
          ]
        }
      ]
    },
    {
      "cell_type": "code",
      "source": [
        "print(completion.choices[0].message.content)"
      ],
      "metadata": {
        "colab": {
          "base_uri": "https://localhost:8080/"
        },
        "id": "nD5WMwISP8xj",
        "outputId": "8775458d-2f4f-4efe-c35e-216ce6fb7633"
      },
      "execution_count": 4,
      "outputs": [
        {
          "output_type": "stream",
          "name": "stdout",
          "text": [
            "**Jalebi** has two main meanings, depending on the context:\n",
            "\n",
            "1. **Food** – A popular South Asian sweet made by deep-frying a wheat flour batter into pretzel or circular shapes, then soaking it in sugar syrup. It's crunchy, syrupy, and often bright orange or yellow in color.\n",
            "\n",
            "2. **Slang (in some regions)** – In parts of North India and Pakistan, \"jalebi\" can colloquially mean **\"twisted\" or \"complicated,\"** likely inspired by the sweet's spiral shape. For example, \"uska dimag jalebi ban gaya hai\" can loosely translate to *\"his mind is all twisted/confused.\"*\n"
          ]
        }
      ]
    },
    {
      "cell_type": "code",
      "source": [],
      "metadata": {
        "id": "Xe1RrCwSQERV"
      },
      "execution_count": null,
      "outputs": []
    }
  ]
}